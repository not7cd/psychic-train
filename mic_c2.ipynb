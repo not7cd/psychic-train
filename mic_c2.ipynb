{
 "cells": [
  {
   "cell_type": "markdown",
   "metadata": {},
   "source": [
    "# Badanie zależości temperatury wrzenia wody od ciśnienia\n"
   ]
  },
  {
   "cell_type": "code",
   "execution_count": 1,
   "metadata": {},
   "outputs": [],
   "source": [
    "import numpy as np\n",
    "import matplotlib.pyplot as plt\n",
    "%matplotlib inline\n",
    "plt.rcParams[\"figure.figsize\"] = (8,8)"
   ]
  },
  {
   "cell_type": "code",
   "execution_count": 2,
   "metadata": {},
   "outputs": [],
   "source": [
    "prs = np.subtract(1015, [950, 900, 810, 660, 490, 255, 160, 0])\n",
    "temp = [313, 323, 334, 347, 357, 366, 369, 373]"
   ]
  },
  {
   "cell_type": "code",
   "execution_count": 3,
   "metadata": {},
   "outputs": [
    {
     "data": {
      "text/plain": [
       "array([4.17438727, 4.74493213, 5.32300998, 5.87211779, 6.26339826,\n",
       "       6.63331843, 6.75110147, 6.92264389])"
      ]
     },
     "execution_count": 3,
     "metadata": {},
     "output_type": "execute_result"
    }
   ],
   "source": [
    "ln_p = np.log(prs)\n",
    "ln_p"
   ]
  },
  {
   "cell_type": "code",
   "execution_count": 4,
   "metadata": {},
   "outputs": [
    {
     "data": {
      "text/plain": [
       "array([0.30769231, 0.17391304, 0.09756098, 0.05633803, 0.03809524,\n",
       "       0.02631579, 0.02339181, 0.01970443])"
      ]
     },
     "execution_count": 4,
     "metadata": {},
     "output_type": "execute_result"
    }
   ],
   "source": [
    "yerr = np.divide(20., prs)\n",
    "yerr"
   ]
  },
  {
   "cell_type": "code",
   "execution_count": 5,
   "metadata": {},
   "outputs": [
    {
     "data": {
      "text/plain": [
       "array([0.00319489, 0.00309598, 0.00299401, 0.00288184, 0.00280112,\n",
       "       0.00273224, 0.00271003, 0.00268097])"
      ]
     },
     "execution_count": 5,
     "metadata": {},
     "output_type": "execute_result"
    }
   ],
   "source": [
    "inv_t = np.divide(1., temp)\n",
    "inv_t"
   ]
  },
  {
   "cell_type": "code",
   "execution_count": 6,
   "metadata": {},
   "outputs": [
    {
     "data": {
      "text/plain": [
       "array([1.02073105e-05, 9.58506264e-06, 8.96410771e-06, 8.30502703e-06,\n",
       "       7.84627577e-06, 7.46513781e-06, 7.34424688e-06, 7.18757412e-06])"
      ]
     },
     "execution_count": 6,
     "metadata": {},
     "output_type": "execute_result"
    }
   ],
   "source": [
    "xerr = np.divide(1, np.divide(1., inv_t**2))\n",
    "xerr"
   ]
  },
  {
   "cell_type": "code",
   "execution_count": 7,
   "metadata": {},
   "outputs": [
    {
     "data": {
      "image/png": "[encoded data removed]",
      "text/plain": [
       "<Figure size 432x288 with 1 Axes>"
      ]
     },
     "metadata": {},
     "output_type": "display_data"
    }
   ],
   "source": [
    "fig = plt.figure()\n",
    "\n",
    "plt.ylabel('temperatura [K]')\n",
    "plt.xlabel('ciśnienie [hPa]')\n",
    "plt.errorbar(x=prs, y=temp, xerr=20, yerr=1, fmt='.')\n",
    "plt.grid()\n",
    "plt.show()"
   ]
  },
  {
   "cell_type": "code",
   "execution_count": 8,
   "metadata": {},
   "outputs": [
    {
     "data": {
      "image/png": "[encoded data removed]",
      "text/plain": [
       "<Figure size 432x288 with 1 Axes>"
      ]
     },
     "metadata": {},
     "output_type": "display_data"
    }
   ],
   "source": [
    "fig = plt.figure()\n",
    "ax = fig.gca()\n",
    "ax.set_yscale('log')\n",
    "\n",
    "plt.xlabel('odrotność temperatury [1/K]')\n",
    "plt.ylabel('log ciśnienie [ln(hPa)]')\n",
    "plt.errorbar(y=prs, x=inv_t, yerr=20, xerr=xerr, fmt='.')\n",
    "plt.grid()\n",
    "plt.show()"
   ]
  },
  {
   "cell_type": "code",
   "execution_count": 9,
   "metadata": {},
   "outputs": [
    {
     "data": {
      "image/png": "[encoded data removed]",
      "text/plain": [
       "<Figure size 432x288 with 1 Axes>"
      ]
     },
     "metadata": {},
     "output_type": "display_data"
    }
   ],
   "source": [
    "fig = plt.figure()\n",
    "# ax = fig.gca()\n",
    "# ax.set_yscale('log')\n",
    "\n",
    "plt.xlabel('odrotność temperatury [1/K]')\n",
    "plt.ylabel('log ciśnienie [ln(hPa)]')\n",
    "plt.errorbar(y=ln_p, x=inv_t, yerr=yerr, xerr=xerr, fmt='.')\n",
    "plt.grid()\n",
    "plt.show()"
   ]
  },
  {
   "cell_type": "code",
   "execution_count": 14,
   "metadata": {},
   "outputs": [
    {
     "name": "stdout",
     "output_type": "stream",
     "text": [
      "4.174 ± 0.308, 3.867 4.482 15.384615384615385\n",
      "4.745 ± 0.174, 4.571 4.919 8.695652173913043\n",
      "5.323 ± 0.098, 5.225 5.421 4.878048780487805\n",
      "5.872 ± 0.056, 5.816 5.928 2.8169014084507045\n",
      "6.263 ± 0.038, 6.225 6.301 1.9047619047619049\n",
      "6.633 ± 0.026, 6.607 6.660 1.3157894736842104\n",
      "6.751 ± 0.023, 6.728 6.774 1.1695906432748537\n",
      "6.923 ± 0.020, 6.903 6.942 0.9852216748768472\n"
     ]
    }
   ],
   "source": [
    "for x, dx in zip(ln_p, yerr):\n",
    "    print('{:.3f} ± {:.3f}, {:.3f} {:.3f} {}'.format(x, dx, x-dx, x+dx, dx/.1*5))"
   ]
  },
  {
   "cell_type": "code",
   "execution_count": 18,
   "metadata": {},
   "outputs": [
    {
     "name": "stdout",
     "output_type": "stream",
     "text": [
      "3.195 ± 0.010, 2.0\n",
      "3.096 ± 0.010, 1.9\n",
      "2.994 ± 0.009, 1.8\n",
      "2.882 ± 0.008, 1.7\n",
      "2.801 ± 0.008, 1.6\n",
      "2.732 ± 0.007, 1.5\n",
      "2.710 ± 0.007, 1.5\n",
      "2.681 ± 0.007, 1.4\n"
     ]
    }
   ],
   "source": [
    "for x, dx in zip(inv_t, xerr):\n",
    "    print('{:.3f} ± {:.3f}, {:.1f}'.format(x*10**3, dx*10**3, dx*10**3/0.1*20))"
   ]
  },
  {
   "cell_type": "code",
   "execution_count": 24,
   "metadata": {},
   "outputs": [
    {
     "name": "stdout",
     "output_type": "stream",
     "text": [
      "-5256.555431194665 21.008051736381248\n"
     ]
    },
    {
     "ename": "NameError",
     "evalue": "name 't' is not defined",
     "output_type": "error",
     "traceback": [
      "\u001b[0;31m---------------------------------------------------------------------------\u001b[0m",
      "\u001b[0;31mNameError\u001b[0m                                 Traceback (most recent call last)",
      "\u001b[0;32m<ipython-input-24-b421a4f97f0b>\u001b[0m in \u001b[0;36m<module>\u001b[0;34m()\u001b[0m\n\u001b[1;32m      9\u001b[0m \u001b[0mplt\u001b[0m\u001b[0;34m.\u001b[0m\u001b[0mylabel\u001b[0m\u001b[0;34m(\u001b[0m\u001b[0;34m'log ciśnienie [ln(hPa)]'\u001b[0m\u001b[0;34m)\u001b[0m\u001b[0;34m\u001b[0m\u001b[0m\n\u001b[1;32m     10\u001b[0m \u001b[0mplt\u001b[0m\u001b[0;34m.\u001b[0m\u001b[0merrorbar\u001b[0m\u001b[0;34m(\u001b[0m\u001b[0my\u001b[0m\u001b[0;34m=\u001b[0m\u001b[0mln_p\u001b[0m\u001b[0;34m,\u001b[0m \u001b[0mx\u001b[0m\u001b[0;34m=\u001b[0m\u001b[0minv_t\u001b[0m\u001b[0;34m,\u001b[0m \u001b[0myerr\u001b[0m\u001b[0;34m=\u001b[0m\u001b[0myerr\u001b[0m\u001b[0;34m,\u001b[0m \u001b[0mxerr\u001b[0m\u001b[0;34m=\u001b[0m\u001b[0mxerr\u001b[0m\u001b[0;34m,\u001b[0m \u001b[0mfmt\u001b[0m\u001b[0;34m=\u001b[0m\u001b[0;34m'.'\u001b[0m\u001b[0;34m)\u001b[0m\u001b[0;34m\u001b[0m\u001b[0m\n\u001b[0;32m---> 11\u001b[0;31m \u001b[0mplt\u001b[0m\u001b[0;34m.\u001b[0m\u001b[0mplot\u001b[0m\u001b[0;34m(\u001b[0m\u001b[0mt\u001b[0m\u001b[0;34m,\u001b[0m \u001b[0mm\u001b[0m\u001b[0;34m*\u001b[0m\u001b[0mt\u001b[0m \u001b[0;34m+\u001b[0m \u001b[0mb\u001b[0m\u001b[0;34m,\u001b[0m \u001b[0;34m'--'\u001b[0m\u001b[0;34m)\u001b[0m\u001b[0;34m\u001b[0m\u001b[0m\n\u001b[0m\u001b[1;32m     12\u001b[0m \u001b[0mplt\u001b[0m\u001b[0;34m.\u001b[0m\u001b[0mgrid\u001b[0m\u001b[0;34m(\u001b[0m\u001b[0;34m)\u001b[0m\u001b[0;34m\u001b[0m\u001b[0m\n\u001b[1;32m     13\u001b[0m \u001b[0mplt\u001b[0m\u001b[0;34m.\u001b[0m\u001b[0mshow\u001b[0m\u001b[0;34m(\u001b[0m\u001b[0;34m)\u001b[0m\u001b[0;34m\u001b[0m\u001b[0m\n",
      "\u001b[0;31mNameError\u001b[0m: name 't' is not defined"
     ]
    },
    {
     "data": {
      "image/png": "[encoded data removed]",
      "text/plain": [
       "<Figure size 432x288 with 1 Axes>"
      ]
     },
     "metadata": {},
     "output_type": "display_data"
    }
   ],
   "source": [
    "m, b = np.polyfit(inv_t, ln_p, 1)\n",
    "print(m, b)\n",
    "\n",
    "fig = plt.figure()\n",
    "# ax = fig.gca()\n",
    "# ax.set_yscale('log')\n",
    "\n",
    "plt.xlabel('odrotność temperatury [1/K]')\n",
    "plt.ylabel('log ciśnienie [ln(hPa)]')\n",
    "plt.errorbar(y=ln_p, x=inv_t, yerr=yerr, xerr=xerr, fmt='.')\n",
    "plt.plot(t, m*t + b, '--')\n",
    "plt.grid()\n",
    "plt.show()"
   ]
  }
 ],
 "metadata": {
  "kernelspec": {
   "display_name": "Python 3",
   "language": "python",
   "name": "python3"
  },
  "language_info": {
   "codemirror_mode": {
    "name": "ipython",
    "version": 3
   },
   "file_extension": ".py",
   "mimetype": "text/x-python",
   "name": "python",
   "nbconvert_exporter": "python",
   "pygments_lexer": "ipython3",
   "version": "3.6.4"
  }
 },
 "nbformat": 4,
 "nbformat_minor": 2
}
