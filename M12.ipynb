{
 "cells": [
  {
   "cell_type": "code",
   "execution_count": 5,
   "metadata": {},
   "outputs": [],
   "source": [
    "import numpy as np\n",
    "import matplotlib.pyplot as plt\n",
    "%matplotlib inline\n",
    "plt.rcParams[\"figure.figsize\"] = (8,8)"
   ]
  },
  {
   "cell_type": "code",
   "execution_count": 43,
   "metadata": {},
   "outputs": [
    {
     "name": "stdout",
     "output_type": "stream",
     "text": [
      "f: 0.000 ± 0.000 h: 0\n",
      "f: 4.905 ± 0.098 h: 3\n",
      "f: 9.810 ± 0.196 h: 6\n",
      "f: 14.715 ± 0.294 h: 9\n",
      "f: 19.620 ± 0.392 h: 12\n",
      "f: 24.525 ± 0.491 h: 15\n"
     ]
    }
   ],
   "source": [
    "mass = [0, .5, 1., 1.5, 2., 2.5]\n",
    "dmass = np.multiply(mass, .01)\n",
    "force = np.multiply(mass, 9.81)\n",
    "dforce = np.multiply(force, .02)\n",
    "heig = [0, 3, 6, 9, 12, 15]\n",
    "\n",
    "for f, df, h in zip(force, dforce, heig):\n",
    "    print('f: {:.3f} ± {:.3f} h: {}'.format(f, df, h))"
   ]
  },
  {
   "cell_type": "code",
   "execution_count": 80,
   "metadata": {},
   "outputs": [
    {
     "data": {
      "image/png": "[encoded data removed]",
      "text/plain": [
       "<Figure size 576x576 with 1 Axes>"
      ]
     },
     "metadata": {},
     "output_type": "display_data"
    },
    {
     "data": {
      "text/plain": [
       "(0.6116207951070335, 8.485848254040984e-16)"
      ]
     },
     "execution_count": 80,
     "metadata": {},
     "output_type": "execute_result"
    }
   ],
   "source": [
    "fig = plt.figure()\n",
    "# ax = fig.gca()\n",
    "# ax.set_yscale('log')\n",
    "\n",
    "plt.xlabel('siła przyłożona [N]')\n",
    "plt.ylabel('odchylenie kropki [mm]')\n",
    "\n",
    "plt.errorbar(x=force, y=heig, yerr=1, xerr=dforce, fmt='.')\n",
    "\n",
    "\n",
    "B, A = np.polyfit(force, heig, 1)\n",
    "plt.plot(force, np.add(np.multiply(B, force), A), '--')\n",
    "\n",
    "plt.yticks(np.arange(min(heig), max(heig)+1, 3.0))\n",
    "plt.xticks(np.arange(min(force), max(force)+1, 2.0))\n",
    "plt.grid()\n",
    "plt.show()\n",
    "B, A"
   ]
  },
  {
   "cell_type": "code",
   "execution_count": 81,
   "metadata": {},
   "outputs": [
    {
     "name": "stdout",
     "output_type": "stream",
     "text": [
      "1.866583955981122e-15\n"
     ]
    }
   ],
   "source": [
    "x = force\n",
    "y = heig\n",
    "\n",
    "sigy = np.sqrt((1/3) * np.sum(np.power(np.subtract(y, np.multiply(B, x)), 2)))\n",
    "\n",
    "\n",
    "print(sigy)"
   ]
  },
  {
   "cell_type": "code",
   "execution_count": 82,
   "metadata": {},
   "outputs": [
    {
     "data": {
      "text/plain": [
       "1202.951250000001"
      ]
     },
     "execution_count": 82,
     "metadata": {},
     "output_type": "execute_result"
    }
   ],
   "source": [
    "delta = np.subtract(5 * np.sum(np.power(x, 2)), np.power(np.sum(x), 2))\n",
    "delta"
   ]
  },
  {
   "cell_type": "code",
   "execution_count": 84,
   "metadata": {},
   "outputs": [
    {
     "data": {
      "text/plain": [
       "4.8012341581915544e-14"
      ]
     },
     "execution_count": 84,
     "metadata": {},
     "output_type": "execute_result"
    }
   ],
   "source": [
    "siga = sigy * np.sqrt(np.sum(np.power(x, 2)/2))\n",
    "siga"
   ]
  },
  {
   "cell_type": "code",
   "execution_count": 83,
   "metadata": {},
   "outputs": [
    {
     "data": {
      "text/plain": [
       "1.2033958705051613e-16"
      ]
     },
     "execution_count": 83,
     "metadata": {},
     "output_type": "execute_result"
    }
   ],
   "source": [
    "sigb = sigy * np.sqrt(5/delta)\n",
    "sigb"
   ]
  },
  {
   "cell_type": "code",
   "execution_count": null,
   "metadata": {},
   "outputs": [],
   "source": []
  }
 ],
 "metadata": {
  "kernelspec": {
   "display_name": "Python 3",
   "language": "python",
   "name": "python3"
  },
  "language_info": {
   "codemirror_mode": {
    "name": "ipython",
    "version": 3
   },
   "file_extension": ".py",
   "mimetype": "text/x-python",
   "name": "python",
   "nbconvert_exporter": "python",
   "pygments_lexer": "ipython3",
   "version": "3.6.4"
  }
 },
 "nbformat": 4,
 "nbformat_minor": 2
}
