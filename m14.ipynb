{
 "cells": [
  {
   "cell_type": "code",
   "execution_count": 32,
   "metadata": {},
   "outputs": [],
   "source": [
    "import numpy as np\n",
    "import matplotlib.pyplot as plt\n",
    "%matplotlib inline\n",
    "plt.rcParams[\"figure.figsize\"] = (8,8)"
   ]
  },
  {
   "cell_type": "code",
   "execution_count": 5,
   "metadata": {},
   "outputs": [],
   "source": [
    "t_2 = [2.29, 2.26, 2.29, 2.29, 2.30]\n",
    "t_3 = [1.86, 1.85, 1.84, 1.84, 1.83]\n",
    "t_4 = [1.63, 1.66, 1.64, 1.65, 1.67]\n",
    "t_5 = [1.52, 1.52, 1.51, 1.53, 1.51]\n",
    "t_6 = [1.40, 1.40, 1.41, 1.41, 1.40]\n",
    "t_7 = [1.31, 1.31, 1.31, 1.31, 1.32]\n",
    "t_8 = [1.21, 1.21, 1.23, 1.25, 1.26]\n",
    "\n",
    "times = [t_2, t_3, t_4, t_5, t_6, t_7, t_8]"
   ]
  },
  {
   "cell_type": "code",
   "execution_count": 23,
   "metadata": {},
   "outputs": [
    {
     "name": "stdout",
     "output_type": "stream",
     "text": [
      "[0.265 0.27  0.275 0.28  0.285 0.29  0.295]\n"
     ]
    }
   ],
   "source": [
    "radius = np.divide([26.5, 27., 27.5, 28., 28.5, 29., 29.5], 100)\n",
    "print(radius)"
   ]
  },
  {
   "cell_type": "code",
   "execution_count": 26,
   "metadata": {},
   "outputs": [
    {
     "data": {
      "text/plain": [
       "array([0.2, 0.3, 0.4, 0.5, 0.6, 0.7, 0.8])"
      ]
     },
     "execution_count": 26,
     "metadata": {},
     "output_type": "execute_result"
    }
   ],
   "source": [
    "force = np.arange(0.2, 0.9, 0.1)\n",
    "force"
   ]
  },
  {
   "cell_type": "code",
   "execution_count": 38,
   "metadata": {},
   "outputs": [
    {
     "name": "stdout",
     "output_type": "stream",
     "text": [
      "t: 2.286 ± 0.014\n",
      "t: 1.844 ± 0.010\n",
      "t: 1.650 ± 0.014\n",
      "t: 1.518 ± 0.007\n",
      "t: 1.404 ± 0.005\n",
      "t: 1.312 ± 0.004\n",
      "t: 1.232 ± 0.020\n"
     ]
    }
   ],
   "source": [
    "tttt = []\n",
    "for  t in times:\n",
    "    print('t: {:.3f} ± {:.3f}'.format(np.mean(t), np.std(t)))\n",
    "    tttt.append(np.mean(t))\n"
   ]
  },
  {
   "cell_type": "code",
   "execution_count": 35,
   "metadata": {},
   "outputs": [
    {
     "name": "stdout",
     "output_type": "stream",
     "text": [
      "a: 2.002 ± 0.045\n",
      "a: 3.135 ± 0.068\n",
      "a: 3.988 ± 0.100\n",
      "a: 4.797 ± 0.098\n",
      "a: 5.708 ± 0.108\n",
      "a: 6.651 ± 0.122\n",
      "a: 7.673 ± 0.285\n"
     ]
    }
   ],
   "source": [
    "acc = []\n",
    "accerr = []\n",
    "for  t, f, r in zip(times, force, radius):\n",
    "    np.mean(t)\n",
    "    a = (4*np.pi**2)*r/np.mean(t)**2\n",
    "    ae = np.sqrt( ((4*np.pi**2/np.mean(t)**2) * 0.005)**2 + ((-8*np.pi**2*r/np.mean(t)**3) * np.std(t))**2 ) \n",
    "    acc.append(a)\n",
    "    accerr.append(ae)\n",
    "    print('a: {:.3f} ± {:.3f}'.format(a, ae))\n",
    "    "
   ]
  },
  {
   "cell_type": "code",
   "execution_count": 42,
   "metadata": {},
   "outputs": [
    {
     "data": {
      "image/png": "[encoded data removed]",
      "text/plain": [
       "<Figure size 576x576 with 1 Axes>"
      ]
     },
     "metadata": {},
     "output_type": "display_data"
    },
    {
     "data": {
      "text/plain": [
       "(0.10849449825940012, -0.026248576753506298)"
      ]
     },
     "execution_count": 42,
     "metadata": {},
     "output_type": "execute_result"
    }
   ],
   "source": [
    "fig = plt.figure()\n",
    "# ax = fig.gca()\n",
    "# ax.set_yscale('log')\n",
    "\n",
    "plt.xlabel('odrotność temperatury [1/K]')\n",
    "plt.ylabel('log ciśnienie [ln(hPa)]')\n",
    "\n",
    "plt.errorbar(x=acc, y=force, yerr=0.02, xerr=accerr, fmt='.')\n",
    "\n",
    "\n",
    "m, b = np.polyfit(acc, force, 1)\n",
    "plt.plot(acc, np.add(np.multiply(m, acc), b), '--')\n",
    "\n",
    "\n",
    "plt.grid()\n",
    "plt.show()\n",
    "m, b"
   ]
  },
  {
   "cell_type": "code",
   "execution_count": null,
   "metadata": {},
   "outputs": [],
   "source": [
    "def adadad()"
   ]
  }
 ],
 "metadata": {
  "kernelspec": {
   "display_name": "Python 3",
   "language": "python",
   "name": "python3"
  },
  "language_info": {
   "codemirror_mode": {
    "name": "ipython",
    "version": 3
   },
   "file_extension": ".py",
   "mimetype": "text/x-python",
   "name": "python",
   "nbconvert_exporter": "python",
   "pygments_lexer": "ipython3",
   "version": "3.6.4"
  }
 },
 "nbformat": 4,
 "nbformat_minor": 2
}
