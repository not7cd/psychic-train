{
 "cells": [
  {
   "cell_type": "code",
   "execution_count": 31,
   "metadata": {},
   "outputs": [],
   "source": [
    "import numpy as np\n",
    "import matplotlib.pyplot as plt\n",
    "%matplotlib inline\n",
    "plt.rcParams[\"figure.figsize\"] = (8,8)"
   ]
  },
  {
   "cell_type": "code",
   "execution_count": 25,
   "metadata": {},
   "outputs": [],
   "source": [
    "height = np.divide([92, 84, 76, 68, 60, 52], 100)\n",
    "raw_time = [[406.4, 406.7, 406.2, 406.7, 405.9],\n",
    "[386.7, 386.8, 386.1, 386.7, 386.1],\n",
    "[364.6, 365.1, 364.5, 364.5, 364.9],\n",
    "[341.4, 352.8, 342.6, 341.6, 341.7],\n",
    "[316.8, 316.9, 316.6, 316.3, 316.8],\n",
    "[290.3, 291.1, 290.6, 290.2, 292.2]]"
   ]
  },
  {
   "cell_type": "code",
   "execution_count": 36,
   "metadata": {},
   "outputs": [
    {
     "name": "stdout",
     "output_type": "stream",
     "text": [
      "t: 406.380 ± 0.306\n",
      "t: 386.480 ± 0.312\n",
      "t: 364.720 ± 0.240\n",
      "t: 344.020 ± 4.409\n",
      "t: 316.680 ± 0.214\n",
      "t: 290.880 ± 0.730\n"
     ]
    }
   ],
   "source": [
    "times = []\n",
    "timeserr = []\n",
    "for  t in raw_time:\n",
    "    t = np. divide(t, 1)\n",
    "    print('t: {:.3f} ± {:.3f}'.format(np.mean(t), np.std(t)))\n",
    "    times.append(np.mean(t))\n",
    "    timeserr.append(np.std(t))"
   ]
  },
  {
   "cell_type": "code",
   "execution_count": 29,
   "metadata": {},
   "outputs": [],
   "source": [
    "x = np.divide(np.power(times, 2), 2)\n",
    "y = height\n",
    "xerr = timeserr\n",
    "yerr = 0.001"
   ]
  },
  {
   "cell_type": "code",
   "execution_count": 32,
   "metadata": {},
   "outputs": [
    {
     "data": {
      "image/png": "[encoded data removed]",
      "text/plain": [
       "<Figure size 576x576 with 1 Axes>"
      ]
     },
     "metadata": {},
     "output_type": "display_data"
    },
    {
     "data": {
      "text/plain": [
       "(9.914001528072975, 0.09973104759739962)"
      ]
     },
     "execution_count": 32,
     "metadata": {},
     "output_type": "execute_result"
    }
   ],
   "source": [
    "fig = plt.figure()\n",
    "# ax = fig.gca()\n",
    "# ax.set_yscale('log')\n",
    "\n",
    "plt.xlabel('połowa kwadrady czasu spadku [(s^2)/2]')\n",
    "plt.ylabel('wysokość [m]')\n",
    "\n",
    "plt.errorbar(x=x, y=y, yerr=yerr, xerr=xerr, fmt='.')\n",
    "\n",
    "\n",
    "m, b = np.polyfit(x, y, 1)\n",
    "plt.plot(x, np.add(np.multiply(m, x), b), '--')\n",
    "\n",
    "\n",
    "plt.grid()\n",
    "plt.show()\n",
    "m, b"
   ]
  },
  {
   "cell_type": "code",
   "execution_count": 35,
   "metadata": {},
   "outputs": [
    {
     "data": {
      "text/plain": [
       "(9.914001528072978, 0.09973104759739948, 0.10988117942495713)"
      ]
     },
     "execution_count": 35,
     "metadata": {},
     "output_type": "execute_result"
    }
   ],
   "source": [
    "from scipy import stats\n",
    "m, b, r_value, p_value, std_err = stats.linregress(x, y)\n",
    "m, b, std_err"
   ]
  },
  {
   "cell_type": "code",
   "execution_count": null,
   "metadata": {},
   "outputs": [],
   "source": []
  }
 ],
 "metadata": {
  "kernelspec": {
   "display_name": "Python 3",
   "language": "python",
   "name": "python3"
  },
  "language_info": {
   "codemirror_mode": {
    "name": "ipython",
    "version": 3
   },
   "file_extension": ".py",
   "mimetype": "text/x-python",
   "name": "python",
   "nbconvert_exporter": "python",
   "pygments_lexer": "ipython3",
   "version": "3.6.4"
  }
 },
 "nbformat": 4,
 "nbformat_minor": 2
}
